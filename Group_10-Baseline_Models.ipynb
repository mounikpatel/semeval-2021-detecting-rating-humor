{
  "nbformat": 4,
  "nbformat_minor": 0,
  "metadata": {
    "colab": {
      "name": "Group_10-Baseline_Models.ipynb",
      "provenance": [],
      "collapsed_sections": [],
      "toc_visible": true
    },
    "kernelspec": {
      "name": "python3",
      "display_name": "Python 3"
    },
    "language_info": {
      "name": "python"
    },
    "accelerator": "GPU"
  },
  "cells": [
    {
      "cell_type": "code",
      "metadata": {
        "id": "dbTSN-IqVAKc"
      },
      "source": [
        "# Import the library\n",
        "import pandas as pd, numpy as np, re, time\n",
        "from nltk.stem.porter import PorterStemmer\n",
        "from sklearn.model_selection import train_test_split\n",
        "from sklearn.metrics import confusion_matrix\n",
        "from sklearn.svm import LinearSVC\n",
        "from sklearn.model_selection import cross_val_score\n",
        "from sklearn.naive_bayes import GaussianNB\n",
        "from sklearn.linear_model import LogisticRegression, LinearRegression\n",
        "from sklearn.ensemble import RandomForestClassifier\n",
        "import matplotlib.pyplot as plt\n",
        "from sklearn import metrics"
      ],
      "execution_count": null,
      "outputs": []
    },
    {
      "cell_type": "code",
      "metadata": {
        "colab": {
          "base_uri": "https://localhost:8080/"
        },
        "id": "7kbegrmFVLqi",
        "outputId": "7c2b77b2-6e4c-445d-d7e8-3eef35f0f3d2"
      },
      "source": [
        "# mount the drive\n",
        "from google.colab import drive\n",
        "drive.mount('/content/drive')"
      ],
      "execution_count": null,
      "outputs": [
        {
          "output_type": "stream",
          "text": [
            "Mounted at /content/drive\n"
          ],
          "name": "stdout"
        }
      ]
    },
    {
      "cell_type": "code",
      "metadata": {
        "colab": {
          "base_uri": "https://localhost:8080/"
        },
        "id": "yXc1_0DOVjBx",
        "outputId": "7f8553d5-1f48-44cb-8015-be51227d6a03"
      },
      "source": [
        "# Load the training file\n",
        "data = pd.read_csv('/content/drive/MyDrive/NLP/train.csv')\n",
        "\n",
        "# Checking the Null values in the dataset.  \n",
        "print(data.isnull().any(axis = 0))"
      ],
      "execution_count": null,
      "outputs": [
        {
          "output_type": "stream",
          "text": [
            "id                   False\n",
            "text                 False\n",
            "is_humor             False\n",
            "humor_rating          True\n",
            "humor_controversy     True\n",
            "offense_rating       False\n",
            "dtype: bool\n"
          ],
          "name": "stdout"
        }
      ]
    },
    {
      "cell_type": "code",
      "metadata": {
        "colab": {
          "base_uri": "https://localhost:8080/",
          "height": 478
        },
        "id": "emscTJjtS2Q_",
        "outputId": "34a3597d-c8c2-441e-c0e1-7bc8d6f9537a"
      },
      "source": [
        "# Load the test data\n",
        "test_data = pd.read_csv('/content/drive/MyDrive/NLP/gold_test.csv')\n",
        "print(test_data.isnull().any(axis = 0))\n",
        "test_data.head(10)"
      ],
      "execution_count": null,
      "outputs": [
        {
          "output_type": "stream",
          "text": [
            "id                   False\n",
            "text                 False\n",
            "is_humor             False\n",
            "humor_rating          True\n",
            "humor_controversy     True\n",
            "offense_rating       False\n",
            "dtype: bool\n"
          ],
          "name": "stdout"
        },
        {
          "output_type": "execute_result",
          "data": {
            "text/html": [
              "<div>\n",
              "<style scoped>\n",
              "    .dataframe tbody tr th:only-of-type {\n",
              "        vertical-align: middle;\n",
              "    }\n",
              "\n",
              "    .dataframe tbody tr th {\n",
              "        vertical-align: top;\n",
              "    }\n",
              "\n",
              "    .dataframe thead th {\n",
              "        text-align: right;\n",
              "    }\n",
              "</style>\n",
              "<table border=\"1\" class=\"dataframe\">\n",
              "  <thead>\n",
              "    <tr style=\"text-align: right;\">\n",
              "      <th></th>\n",
              "      <th>id</th>\n",
              "      <th>text</th>\n",
              "      <th>is_humor</th>\n",
              "      <th>humor_rating</th>\n",
              "      <th>humor_controversy</th>\n",
              "      <th>offense_rating</th>\n",
              "    </tr>\n",
              "  </thead>\n",
              "  <tbody>\n",
              "    <tr>\n",
              "      <th>0</th>\n",
              "      <td>9001</td>\n",
              "      <td>Finding out your ex got fat is like finding 20...</td>\n",
              "      <td>1</td>\n",
              "      <td>2.20</td>\n",
              "      <td>0.0</td>\n",
              "      <td>0.90</td>\n",
              "    </tr>\n",
              "    <tr>\n",
              "      <th>1</th>\n",
              "      <td>9002</td>\n",
              "      <td>For Brockmann, stereotypes imperil national se...</td>\n",
              "      <td>0</td>\n",
              "      <td>NaN</td>\n",
              "      <td>NaN</td>\n",
              "      <td>0.35</td>\n",
              "    </tr>\n",
              "    <tr>\n",
              "      <th>2</th>\n",
              "      <td>9003</td>\n",
              "      <td>A girl runs up to her mother with a pile of cr...</td>\n",
              "      <td>1</td>\n",
              "      <td>2.80</td>\n",
              "      <td>1.0</td>\n",
              "      <td>0.10</td>\n",
              "    </tr>\n",
              "    <tr>\n",
              "      <th>3</th>\n",
              "      <td>9004</td>\n",
              "      <td>gotta wonder if baseball still would've been c...</td>\n",
              "      <td>1</td>\n",
              "      <td>2.15</td>\n",
              "      <td>0.0</td>\n",
              "      <td>0.00</td>\n",
              "    </tr>\n",
              "    <tr>\n",
              "      <th>4</th>\n",
              "      <td>9005</td>\n",
              "      <td>When you're dreading getting in the shower cuz...</td>\n",
              "      <td>1</td>\n",
              "      <td>2.25</td>\n",
              "      <td>0.0</td>\n",
              "      <td>0.35</td>\n",
              "    </tr>\n",
              "    <tr>\n",
              "      <th>5</th>\n",
              "      <td>9006</td>\n",
              "      <td>Parenthood feels like you're on a magical unic...</td>\n",
              "      <td>1</td>\n",
              "      <td>2.00</td>\n",
              "      <td>1.0</td>\n",
              "      <td>0.10</td>\n",
              "    </tr>\n",
              "    <tr>\n",
              "      <th>6</th>\n",
              "      <td>9007</td>\n",
              "      <td>It's Friday night and I'm out of control! Gett...</td>\n",
              "      <td>1</td>\n",
              "      <td>2.13</td>\n",
              "      <td>1.0</td>\n",
              "      <td>0.00</td>\n",
              "    </tr>\n",
              "    <tr>\n",
              "      <th>7</th>\n",
              "      <td>9008</td>\n",
              "      <td>me: I didn't know this was a hibachi restauran...</td>\n",
              "      <td>1</td>\n",
              "      <td>2.19</td>\n",
              "      <td>1.0</td>\n",
              "      <td>0.80</td>\n",
              "    </tr>\n",
              "    <tr>\n",
              "      <th>8</th>\n",
              "      <td>9009</td>\n",
              "      <td>Maybe we need to turn the United States off an...</td>\n",
              "      <td>1</td>\n",
              "      <td>3.06</td>\n",
              "      <td>0.0</td>\n",
              "      <td>0.30</td>\n",
              "    </tr>\n",
              "    <tr>\n",
              "      <th>9</th>\n",
              "      <td>9010</td>\n",
              "      <td>I asked my North Korean friend how it was ther...</td>\n",
              "      <td>1</td>\n",
              "      <td>2.63</td>\n",
              "      <td>0.0</td>\n",
              "      <td>1.30</td>\n",
              "    </tr>\n",
              "  </tbody>\n",
              "</table>\n",
              "</div>"
            ],
            "text/plain": [
              "     id  ... offense_rating\n",
              "0  9001  ...           0.90\n",
              "1  9002  ...           0.35\n",
              "2  9003  ...           0.10\n",
              "3  9004  ...           0.00\n",
              "4  9005  ...           0.35\n",
              "5  9006  ...           0.10\n",
              "6  9007  ...           0.00\n",
              "7  9008  ...           0.80\n",
              "8  9009  ...           0.30\n",
              "9  9010  ...           1.30\n",
              "\n",
              "[10 rows x 6 columns]"
            ]
          },
          "metadata": {
            "tags": []
          },
          "execution_count": 4
        }
      ]
    },
    {
      "cell_type": "markdown",
      "metadata": {
        "id": "_R_CkygNNC5o"
      },
      "source": [
        "## **Data Preprocessing**"
      ]
    },
    {
      "cell_type": "code",
      "metadata": {
        "id": "3iW-ecyAWQX_"
      },
      "source": [
        "# Data Pre-Processing on Training data \n",
        "data['humor_rating'] = data['humor_rating'].fillna(0)\n",
        "data['humor_controversy'] = data['humor_controversy'].fillna(0)\n",
        "data['humor_controversy'] = data['humor_controversy'].apply(np.int64)"
      ],
      "execution_count": null,
      "outputs": []
    },
    {
      "cell_type": "code",
      "metadata": {
        "id": "pO6RH08LTDCj"
      },
      "source": [
        "# Data Pre-Processing on Testing data\n",
        "test_data['humor_rating'] = test_data['humor_rating'].fillna(0)\n",
        "test_data['humor_controversy'] = test_data['humor_controversy'].fillna(0)\n",
        "test_data['humor_controversy'] = test_data['humor_controversy'].apply(np.int64)"
      ],
      "execution_count": null,
      "outputs": []
    },
    {
      "cell_type": "code",
      "metadata": {
        "colab": {
          "base_uri": "https://localhost:8080/"
        },
        "id": "sMoIb6P1WhcJ",
        "outputId": "862a0f32-6397-4e0c-8d9c-3ff6a552c538"
      },
      "source": [
        "# Remove punctuation from text using Regular expression in Training dataset\n",
        "data['text'] = data['text'].apply(lambda s : re.sub('[^a-zA-Z]', ' ', s))\n",
        "print(data['text'])"
      ],
      "execution_count": null,
      "outputs": [
        {
          "output_type": "stream",
          "text": [
            "0       TENNESSEE  We re the best state  Nobody even c...\n",
            "1       A man inserted an advertisement in the classif...\n",
            "2       How many men does it take to open a can of bee...\n",
            "3       Told my mom I hit      Twitter followers  She ...\n",
            "4       Roses are dead  Love is fake  Weddings are bas...\n",
            "                              ...                        \n",
            "7995    Lack of awareness of the pervasiveness of raci...\n",
            "7996      Why are aspirins white  Because they work sorry\n",
            "7997    Today  we Americans celebrate our independence...\n",
            "7998    How to keep the flies off the bride at an Ital...\n",
            "7999     Each ounce of sunflower seeds gives you     o...\n",
            "Name: text, Length: 8000, dtype: object\n"
          ],
          "name": "stdout"
        }
      ]
    },
    {
      "cell_type": "code",
      "metadata": {
        "colab": {
          "base_uri": "https://localhost:8080/"
        },
        "id": "dSTErqZCTOuV",
        "outputId": "34be9aa0-02f9-497d-d72a-00b0f2b17460"
      },
      "source": [
        "# Remove punctuation from text using Regular expression in Testing dataset\n",
        "test_data['text'] = test_data['text'].apply(lambda s : re.sub('[^a-zA-Z]', ' ', s))\n",
        "print(test_data['text'])"
      ],
      "execution_count": null,
      "outputs": [
        {
          "output_type": "stream",
          "text": [
            "0      Finding out your ex got fat is like finding   ...\n",
            "1      For Brockmann  stereotypes imperil national se...\n",
            "2      A girl runs up to her mother with a pile of cr...\n",
            "3      gotta wonder if baseball still would ve been c...\n",
            "4      When you re dreading getting in the shower cuz...\n",
            "                             ...                        \n",
            "995    What do you call a black man on the moon  An a...\n",
            "996    when im picking someone up and they ask how lo...\n",
            "997    A black lesbian  an obese white neck beard  an...\n",
            "998    and I recognize the need to use ALL of my plat...\n",
            "999    Get married so you can argue about fun things ...\n",
            "Name: text, Length: 1000, dtype: object\n"
          ],
          "name": "stdout"
        }
      ]
    },
    {
      "cell_type": "markdown",
      "metadata": {
        "id": "Gds1zL1UMw6n"
      },
      "source": [
        "## **Task1(A)** : Humor Detection"
      ]
    },
    {
      "cell_type": "code",
      "metadata": {
        "id": "N6inVacrW2BQ"
      },
      "source": [
        "# Preparing training dataset\n",
        "features = data['text']\n",
        "labels = data['is_humor']\n",
        "\n",
        "test_features = test_data['text']\n",
        "test_labels = test_data['is_humor']"
      ],
      "execution_count": null,
      "outputs": []
    },
    {
      "cell_type": "code",
      "metadata": {
        "id": "bVGM9Az-XEsV"
      },
      "source": [
        "# Data pre-processing using PorterStemmer\n",
        "ps = PorterStemmer()\n",
        "features = features.apply(lambda x: x.split())\n",
        "features = features.apply(lambda x : ' '.join([ps.stem(word) for word in x]))\n",
        "\n",
        "test_features = test_features.apply(lambda x: x.split())\n",
        "test_features = test_features.apply(lambda x : ' '.join([ps.stem(word) for word in x]))"
      ],
      "execution_count": null,
      "outputs": []
    },
    {
      "cell_type": "code",
      "metadata": {
        "id": "UIpcwK-UXTC0"
      },
      "source": [
        "# Convert text to tfidf vector\n",
        "\n",
        "from sklearn.feature_extraction.text import TfidfVectorizer\n",
        "tv = TfidfVectorizer(max_features = 3462)\n",
        "features = list(features)\n",
        "features = tv.fit_transform(features).toarray()\n",
        "\n",
        "tv2 = TfidfVectorizer(max_features = 3462)\n",
        "\n",
        "test_features = list(test_features)\n",
        "test_features = tv2.fit_transform(test_features).toarray()"
      ],
      "execution_count": null,
      "outputs": []
    },
    {
      "cell_type": "code",
      "metadata": {
        "id": "3jzuqXMSXpQw"
      },
      "source": [
        "# Train-test split\n",
        "features_train, features_test, labels_train, labels_test = train_test_split(features, labels, test_size = .1, random_state = 0)"
      ],
      "execution_count": null,
      "outputs": []
    },
    {
      "cell_type": "code",
      "metadata": {
        "id": "DxGqBe6OBINn"
      },
      "source": [
        "# Store Model performance\n",
        "train_list = []\n",
        "test_list = []"
      ],
      "execution_count": null,
      "outputs": []
    },
    {
      "cell_type": "code",
      "metadata": {
        "colab": {
          "base_uri": "https://localhost:8080/"
        },
        "id": "hlaRv-6CX1V0",
        "outputId": "d5059fa0-7de4-450f-b0de-f2ea8405169c"
      },
      "source": [
        "# Logistic Regression\n",
        "lr = LogisticRegression()\n",
        "lr.fit(features_train, labels_train)\n",
        "print(lr.score(features_train, labels_train))\n",
        "train_list.append(lr.score(features_train, labels_train))\n",
        "print(lr.score(test_features, test_labels))\n",
        "test_list.append(lr.score(test_features, test_labels))  "
      ],
      "execution_count": null,
      "outputs": [
        {
          "output_type": "stream",
          "text": [
            "0.8995833333333333\n",
            "0.586\n"
          ],
          "name": "stdout"
        }
      ]
    },
    {
      "cell_type": "code",
      "metadata": {
        "colab": {
          "base_uri": "https://localhost:8080/"
        },
        "id": "dyjeg-VyYilF",
        "outputId": "6863bd55-e7a3-4309-8b2f-b2a42a66bd50"
      },
      "source": [
        "# Linear SVC\n",
        "lsvc = LinearSVC()\n",
        "# training the model\n",
        "lsvc.fit(features_train, labels_train)\n",
        "# getting the score of train and test data\n",
        "print(lsvc.score(features_train, labels_train))\n",
        "train_list.append(lsvc.score(features_train, labels_train))\n",
        "print(lsvc.score(test_features, test_labels))  \n",
        "test_list.append(lsvc.score(test_features, test_labels))  "
      ],
      "execution_count": null,
      "outputs": [
        {
          "output_type": "stream",
          "text": [
            "0.9602777777777778\n",
            "0.532\n"
          ],
          "name": "stdout"
        }
      ]
    },
    {
      "cell_type": "code",
      "metadata": {
        "colab": {
          "base_uri": "https://localhost:8080/"
        },
        "id": "4ZDz-_6wZiAZ",
        "outputId": "97057d44-bd09-4623-e683-a3c619ef6dfb"
      },
      "source": [
        "# Naive Bayes\n",
        "gnb = GaussianNB()\n",
        "gnb.fit(features_train, labels_train)\n",
        "print(gnb.score(features_train, labels_train))\n",
        "train_list.append(gnb.score(features_train, labels_train))\n",
        "print(gnb.score(test_features, test_labels)) \n",
        "test_list.append(gnb.score(test_features, test_labels)) "
      ],
      "execution_count": null,
      "outputs": [
        {
          "output_type": "stream",
          "text": [
            "0.8069444444444445\n",
            "0.543\n"
          ],
          "name": "stdout"
        }
      ]
    },
    {
      "cell_type": "code",
      "metadata": {
        "colab": {
          "base_uri": "https://localhost:8080/"
        },
        "id": "d4uYh-m6ZkhK",
        "outputId": "e50a1670-1114-4b1a-b542-847887478978"
      },
      "source": [
        "# Random Forest\n",
        "rfc = RandomForestClassifier(n_estimators = 10, random_state = 0)\n",
        "rfc.fit(features_train, labels_train)\n",
        "print(rfc.score(features_train, labels_train))\n",
        "train_list.append(rfc.score(features_train, labels_train))\n",
        "print(rfc.score(test_features, test_labels)) \n",
        "test_list.append(rfc.score(test_features, test_labels)) \n",
        "# print(rfc.score(features_test, labels_test)) \n",
        "# test_list.append(rfc.score(features_test, labels_test)) "
      ],
      "execution_count": null,
      "outputs": [
        {
          "output_type": "stream",
          "text": [
            "0.9926388888888888\n",
            "0.391\n"
          ],
          "name": "stdout"
        }
      ]
    },
    {
      "cell_type": "code",
      "metadata": {
        "id": "TZMHrca2wuMn"
      },
      "source": [
        "# Making list of Model with their performance\n",
        "classifier_list = ['Logistic Regression', 'Linear SVC', 'Gaussian NB', 'Random Forest']\n",
        "\n",
        "for i in range(len(train_list)):\n",
        "  train_list[i] *= 100\n",
        "  test_list[i] *= 100"
      ],
      "execution_count": null,
      "outputs": []
    },
    {
      "cell_type": "code",
      "metadata": {
        "colab": {
          "base_uri": "https://localhost:8080/",
          "height": 483
        },
        "id": "UbpZ65EF5S_K",
        "outputId": "bde01d83-c94b-48f6-adc2-3178ece589d0"
      },
      "source": [
        "# Reference : https://learndataanalysis.org/graph-a-grouped-bar-chart-matplotlib-tutorial/\n",
        "subjects = ['Logistic Regression', 'Linear SVC', 'Gaussian NB', 'Random Forest']\n",
        "\n",
        "indx = np.arange(len(subjects))\n",
        "score_label = np.arange(0, 110, 10)\n",
        "\n",
        "bar_width = 0.35\n",
        "\n",
        "\n",
        "fig, ax = plt.subplots(figsize=(15,8))\n",
        "barMale = ax.bar(indx - bar_width/2, train_list, bar_width, label='Training Accuracy')\n",
        "barFemale = ax.bar(indx + bar_width/2, test_list, bar_width, label='Testing Accuracy')\n",
        "\n",
        "# inserting x axis label\n",
        "ax.set_xticks(indx)\n",
        "ax.set_xticklabels(subjects)\n",
        "\n",
        "# inserting y axis label\n",
        "ax.set_yticks(score_label)\n",
        "ax.set_yticklabels(score_label)\n",
        "\n",
        "# inserting legend\n",
        "ax.legend()\n",
        "\n",
        "def insert_data_labels(bars):\n",
        "\tfor bar in bars:\n",
        "\t\tbar_height = bar.get_height()\n",
        "\t\tax.annotate('{0:.2f}'.format(bar.get_height()),\n",
        "\t\t\txy=(bar.get_x() + bar.get_width() / 2, bar_height),\n",
        "\t\t\txytext=(0, 3),\n",
        "\t\t\ttextcoords='offset points',\n",
        "\t\t\tha='center',\n",
        "\t\t\tva='bottom'\n",
        "\t\t)\n",
        "  \n",
        "\n",
        "insert_data_labels(barMale)\n",
        "insert_data_labels(barFemale)\n",
        "\n",
        "plt.show()"
      ],
      "execution_count": null,
      "outputs": [
        {
          "output_type": "display_data",
          "data": {
            "image/png": "[encoded data removed]",
            "text/plain": [
              "<Figure size 1080x576 with 1 Axes>"
            ]
          },
          "metadata": {
            "tags": [],
            "needs_background": "light"
          }
        }
      ]
    },
    {
      "cell_type": "markdown",
      "metadata": {
        "id": "BSeLfW5MN68D"
      },
      "source": [
        "## **Task1(B)** : Humor Rating"
      ]
    },
    {
      "cell_type": "code",
      "metadata": {
        "id": "FZFsVWHVtoKS"
      },
      "source": [
        "# Preparing dataset and pre-processing\n",
        "\n",
        "ft = data['text']\n",
        "lb = data['humor_rating']\n",
        "ps = PorterStemmer()\n",
        "ft = ft.apply(lambda x: x.split())\n",
        "ft = ft.apply(lambda x : ' '.join([ps.stem(word) for word in x]))\n",
        "tv = TfidfVectorizer(max_features = 3462)\n",
        "ft = list(ft)\n",
        "ft = tv.fit_transform(ft).toarray()\n",
        "\n",
        "\n",
        "ft_test = test_data['text']\n",
        "lb_test = test_data['humor_rating']\n",
        "ft_test = ft_test.apply(lambda x: x.split())\n",
        "ft_test = ft_test.apply(lambda x : ' '.join([ps.stem(word) for word in x]))\n",
        "tv2 = TfidfVectorizer(max_features = 3462)\n",
        "ft_test = list(ft_test)\n",
        "ft_test = tv2.fit_transform(ft_test).toarray()\n",
        "\n"
      ],
      "execution_count": null,
      "outputs": []
    },
    {
      "cell_type": "code",
      "metadata": {
        "id": "puicmlsypQxe",
        "colab": {
          "base_uri": "https://localhost:8080/"
        },
        "outputId": "7e796158-a667-456b-acf1-37e0457c082f"
      },
      "source": [
        "# Linear Regression for Humor Rating\n",
        "lr = LinearRegression()\n",
        "lr.fit(ft,lb)"
      ],
      "execution_count": null,
      "outputs": [
        {
          "output_type": "execute_result",
          "data": {
            "text/plain": [
              "LinearRegression(copy_X=True, fit_intercept=True, n_jobs=None, normalize=False)"
            ]
          },
          "metadata": {
            "tags": []
          },
          "execution_count": 21
        }
      ]
    },
    {
      "cell_type": "code",
      "metadata": {
        "id": "GNuFuwcMuL9n",
        "colab": {
          "base_uri": "https://localhost:8080/"
        },
        "outputId": "0f0afba1-e7ef-49b8-ee25-6d6a75678a24"
      },
      "source": [
        "# Score for Model Performance TASK1(B)\n",
        "print(lr.score(ft,lb))\n",
        "print(lr.score(ft_test, lb_test))\n"
      ],
      "execution_count": null,
      "outputs": [
        {
          "output_type": "stream",
          "text": [
            "0.7447205083175488\n",
            "-6.250448721937112e+23\n"
          ],
          "name": "stdout"
        }
      ]
    },
    {
      "cell_type": "markdown",
      "metadata": {
        "id": "-6Do80jGiU4j"
      },
      "source": [
        "## **Task1(C)** : Humor Controversy Detection\n",
        "\n"
      ]
    },
    {
      "cell_type": "code",
      "metadata": {
        "id": "VgTkO4pEfaT5"
      },
      "source": [
        "# Preparing training dataset\n",
        "features = data['text']\n",
        "labels = data['humor_controversy']\n",
        "\n",
        "test_features = test_data['text']\n",
        "test_labels = test_data['is_humor']"
      ],
      "execution_count": null,
      "outputs": []
    },
    {
      "cell_type": "code",
      "metadata": {
        "id": "KLNajay4gO2F"
      },
      "source": [
        "# Data pre-processing using PorterStemmer\n",
        "ps = PorterStemmer()\n",
        "features = features.apply(lambda x: x.split())\n",
        "features = features.apply(lambda x : ' '.join([ps.stem(word) for word in x]))\n",
        "\n",
        "test_features = test_features.apply(lambda x: x.split())\n",
        "test_features = test_features.apply(lambda x : ' '.join([ps.stem(word) for word in x]))"
      ],
      "execution_count": null,
      "outputs": []
    },
    {
      "cell_type": "code",
      "metadata": {
        "id": "KnxSOjEKgRXR"
      },
      "source": [
        "# Convert text to tfidf vector\n",
        "\n",
        "from sklearn.feature_extraction.text import TfidfVectorizer\n",
        "tv = TfidfVectorizer(max_features = 3462)\n",
        "features = list(features)\n",
        "features = tv.fit_transform(features).toarray()\n",
        "\n",
        "tv2 = TfidfVectorizer(max_features = 3462)\n",
        "\n",
        "test_features = list(test_features)\n",
        "test_features = tv2.fit_transform(test_features).toarray()"
      ],
      "execution_count": null,
      "outputs": []
    },
    {
      "cell_type": "code",
      "metadata": {
        "id": "NWv8wrvAgCN7"
      },
      "source": [
        "# Train-test split\n",
        "features_train, features_test, labels_train, labels_test = train_test_split(features, labels, test_size = .1, random_state = 0)"
      ],
      "execution_count": null,
      "outputs": []
    },
    {
      "cell_type": "code",
      "metadata": {
        "id": "t_I0wAPTgZ0e"
      },
      "source": [
        "# Store Model performance\n",
        "train_list = []\n",
        "test_list = []"
      ],
      "execution_count": null,
      "outputs": []
    },
    {
      "cell_type": "code",
      "metadata": {
        "colab": {
          "base_uri": "https://localhost:8080/"
        },
        "id": "mPSc0obEgWMP",
        "outputId": "272b2a04-6d7d-4148-ddcb-655f260819fc"
      },
      "source": [
        "# Logistic Regression\n",
        "lr = LogisticRegression()\n",
        "lr.fit(features_train, labels_train)\n",
        "print(lr.score(features_train, labels_train))\n",
        "train_list.append(lr.score(features_train, labels_train))\n",
        "print(lr.score(test_features, test_labels))\n",
        "test_list.append(lr.score(test_features, test_labels))  "
      ],
      "execution_count": null,
      "outputs": [
        {
          "output_type": "stream",
          "text": [
            "0.7743055555555556\n",
            "0.393\n"
          ],
          "name": "stdout"
        }
      ]
    },
    {
      "cell_type": "code",
      "metadata": {
        "colab": {
          "base_uri": "https://localhost:8080/"
        },
        "id": "UIifSjL5gc_U",
        "outputId": "cd545cab-b7c6-4993-eead-aec7e8d1e5eb"
      },
      "source": [
        "# Linear SVC\n",
        "lsvc = LinearSVC()\n",
        "# training the model\n",
        "lsvc.fit(features_train, labels_train)\n",
        "# getting the score of train and test data\n",
        "print(lsvc.score(features_train, labels_train))\n",
        "train_list.append(lsvc.score(features_train, labels_train))\n",
        "print(lsvc.score(test_features, test_labels))  \n",
        "test_list.append(lsvc.score(test_features, test_labels))  "
      ],
      "execution_count": null,
      "outputs": [
        {
          "output_type": "stream",
          "text": [
            "0.8701388888888889\n",
            "0.468\n"
          ],
          "name": "stdout"
        }
      ]
    },
    {
      "cell_type": "code",
      "metadata": {
        "colab": {
          "base_uri": "https://localhost:8080/"
        },
        "id": "tTpj6HRkge-Z",
        "outputId": "43b97dd8-418d-4f81-a1d0-51c9859ca331"
      },
      "source": [
        "# Naive Bayes\n",
        "gnb = GaussianNB()\n",
        "gnb.fit(features_train, labels_train)\n",
        "print(gnb.score(features_train, labels_train))\n",
        "train_list.append(gnb.score(features_train, labels_train))\n",
        "print(gnb.score(test_features, test_labels)) \n",
        "test_list.append(gnb.score(test_features, test_labels)) "
      ],
      "execution_count": null,
      "outputs": [
        {
          "output_type": "stream",
          "text": [
            "0.5834722222222222\n",
            "0.402\n"
          ],
          "name": "stdout"
        }
      ]
    },
    {
      "cell_type": "code",
      "metadata": {
        "colab": {
          "base_uri": "https://localhost:8080/"
        },
        "id": "QUyLZz39gg_c",
        "outputId": "160881a4-d491-4e59-f0be-8c004fd77e5d"
      },
      "source": [
        "# Random Forest\n",
        "rfc = RandomForestClassifier(n_estimators = 10, random_state = 0)\n",
        "rfc.fit(features_train, labels_train)\n",
        "print(rfc.score(features_train, labels_train))\n",
        "train_list.append(rfc.score(features_train, labels_train))\n",
        "print(rfc.score(test_features, test_labels)) \n",
        "test_list.append(rfc.score(test_features, test_labels)) "
      ],
      "execution_count": null,
      "outputs": [
        {
          "output_type": "stream",
          "text": [
            "0.9731944444444445\n",
            "0.394\n"
          ],
          "name": "stdout"
        }
      ]
    },
    {
      "cell_type": "code",
      "metadata": {
        "id": "c1L4LTj2gjDv"
      },
      "source": [
        "# Making list of Model with their performace\n",
        "classifier_list = ['Logistic Regression', 'Linear SVC', 'Gaussian NB', 'Random Forest']\n",
        "\n",
        "for i in range(len(train_list)):\n",
        "  train_list[i] *= 100\n",
        "  test_list[i] *= 100"
      ],
      "execution_count": null,
      "outputs": []
    },
    {
      "cell_type": "code",
      "metadata": {
        "colab": {
          "base_uri": "https://localhost:8080/",
          "height": 483
        },
        "id": "GV1InFU8gl7Q",
        "outputId": "75d34038-398f-4d5b-af91-74ea4c9f60bb"
      },
      "source": [
        "# Reference : https://learndataanalysis.org/graph-a-grouped-bar-chart-matplotlib-tutorial/\n",
        "subjects = ['Logistic Regression', 'Linear SVC', 'Gaussian NB', 'Random Forest']\n",
        "\n",
        "indx = np.arange(len(subjects))\n",
        "score_label = np.arange(0, 110, 10)\n",
        "\n",
        "bar_width = 0.35\n",
        "\n",
        "\n",
        "fig, ax = plt.subplots(figsize=(15,8))\n",
        "barMale = ax.bar(indx - bar_width/2, train_list, bar_width, label='Training Accuracy')\n",
        "barFemale = ax.bar(indx + bar_width/2, test_list, bar_width, label='Testing Accuracy')\n",
        "\n",
        "# inserting x axis label\n",
        "ax.set_xticks(indx)\n",
        "ax.set_xticklabels(subjects)\n",
        "\n",
        "# inserting y axis label\n",
        "ax.set_yticks(score_label)\n",
        "ax.set_yticklabels(score_label)\n",
        "\n",
        "# inserting legend\n",
        "ax.legend()\n",
        "\n",
        "def insert_data_labels(bars):\n",
        "\tfor bar in bars:\n",
        "\t\tbar_height = bar.get_height()\n",
        "\t\tax.annotate('{0:.2f}'.format(bar.get_height()),\n",
        "\t\t\txy=(bar.get_x() + bar.get_width() / 2, bar_height),\n",
        "\t\t\txytext=(0, 3),\n",
        "\t\t\ttextcoords='offset points',\n",
        "\t\t\tha='center',\n",
        "\t\t\tva='bottom'\n",
        "\t\t)\n",
        "  \n",
        "\n",
        "insert_data_labels(barMale)\n",
        "insert_data_labels(barFemale)\n",
        "\n",
        "plt.show()"
      ],
      "execution_count": null,
      "outputs": [
        {
          "output_type": "display_data",
          "data": {
            "image/png": "[encoded data removed]",
            "text/plain": [
              "<Figure size 1080x576 with 1 Axes>"
            ]
          },
          "metadata": {
            "tags": [],
            "needs_background": "light"
          }
        }
      ]
    },
    {
      "cell_type": "markdown",
      "metadata": {
        "id": "8rb9wVdZgpaR"
      },
      "source": [
        "## **Task2** : Humor Offense Rating"
      ]
    },
    {
      "cell_type": "code",
      "metadata": {
        "id": "chwKxdWBgtIn"
      },
      "source": [
        "# Preparing dataset and pre-processing\n",
        "ft = data['text']\n",
        "lb = data['offense_rating']\n",
        "\n",
        "ps = PorterStemmer()\n",
        "ft = ft.apply(lambda x: x.split())\n",
        "ft = ft.apply(lambda x : ' '.join([ps.stem(word) for word in x]))\n",
        "tv = TfidfVectorizer(max_features = 3462)\n",
        "ft = list(ft)\n",
        "ft = tv.fit_transform(ft).toarray()\n",
        "\n",
        "\n",
        "ft_test = test_data['text']\n",
        "lb_test = test_data['offense_rating']\n",
        "ft_test = ft_test.apply(lambda x: x.split())\n",
        "ft_test = ft_test.apply(lambda x : ' '.join([ps.stem(word) for word in x]))\n",
        "tv2 = TfidfVectorizer(max_features = 3462)\n",
        "ft_test = list(ft_test)\n",
        "ft_test = tv2.fit_transform(ft_test).toarray()"
      ],
      "execution_count": null,
      "outputs": []
    },
    {
      "cell_type": "code",
      "metadata": {
        "colab": {
          "base_uri": "https://localhost:8080/"
        },
        "id": "FF8insbEgvA3",
        "outputId": "7114d221-7bc6-4804-a4c7-0acae19b821c"
      },
      "source": [
        "# Linear Regression for Offense Rating\n",
        "lr = LinearRegression()\n",
        "lr.fit(ft,lb)"
      ],
      "execution_count": null,
      "outputs": [
        {
          "output_type": "execute_result",
          "data": {
            "text/plain": [
              "LinearRegression(copy_X=True, fit_intercept=True, n_jobs=None, normalize=False)"
            ]
          },
          "metadata": {
            "tags": []
          },
          "execution_count": 35
        }
      ]
    },
    {
      "cell_type": "code",
      "metadata": {
        "colab": {
          "base_uri": "https://localhost:8080/"
        },
        "id": "T4e_fhRGgwmd",
        "outputId": "641c6552-7b5f-4369-89b6-a4455404908f"
      },
      "source": [
        "# Score for Model Performance TASK1(B)\n",
        "print(lr.score(ft,lb))\n",
        "print(lr.score(ft_test, lb_test))"
      ],
      "execution_count": null,
      "outputs": [
        {
          "output_type": "stream",
          "text": [
            "0.7633493714511398\n",
            "-2.0276924628631402e+24\n"
          ],
          "name": "stdout"
        }
      ]
    },
    {
      "cell_type": "markdown",
      "metadata": {
        "id": "ORxHiK9PRANx"
      },
      "source": [
        "## Reference:\n",
        "\n",
        "https://towardsdatascience.com/sarcasm-detection-step-towards-sentiment-analysis-84cb013bb6db\n",
        "\n",
        "https://learndataanalysis.org/graph-a-grouped-bar-chart-matplotlib-tutorial/"
      ]
    }
  ]
}